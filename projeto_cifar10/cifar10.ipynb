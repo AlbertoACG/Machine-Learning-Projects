{
  "nbformat": 4,
  "nbformat_minor": 0,
  "metadata": {
    "colab": {
      "name": "ClassificadorCifar10.ipynb",
      "provenance": [],
      "collapsed_sections": []
    },
    "kernelspec": {
      "name": "python3",
      "display_name": "Python 3"
    },
    "accelerator": "GPU"
  },
  "cells": [
    {
      "cell_type": "markdown",
      "metadata": {
        "id": "zJMS8p3wfPXO",
        "colab_type": "text"
      },
      "source": [
        "## Etapa 1: Instando o TensorFlow 2.0"
      ]
    },
    {
      "cell_type": "code",
      "metadata": {
        "id": "PXNUanZvcwwZ",
        "colab_type": "code",
        "outputId": "52939670-bb5c-47bf-ba4c-0e8b52cd4ba7",
        "colab": {
          "base_uri": "https://localhost:8080/",
          "height": 581
        }
      },
      "source": [
        "!pip install tensorflow-gpu==2.0.0.alpha0"
      ],
      "execution_count": 6,
      "outputs": [
        {
          "output_type": "stream",
          "text": [
            "Collecting tensorflow-gpu==2.0.0.alpha0\n",
            "\u001b[?25l  Downloading https://files.pythonhosted.org/packages/1a/66/32cffad095253219d53f6b6c2a436637bbe45ac4e7be0244557210dc3918/tensorflow_gpu-2.0.0a0-cp36-cp36m-manylinux1_x86_64.whl (332.1MB)\n",
            "\u001b[K     |████████████████████████████████| 332.1MB 52kB/s \n",
            "\u001b[?25hRequirement already satisfied: protobuf>=3.6.1 in /usr/local/lib/python3.6/dist-packages (from tensorflow-gpu==2.0.0.alpha0) (3.10.0)\n",
            "Requirement already satisfied: keras-preprocessing>=1.0.5 in /usr/local/lib/python3.6/dist-packages (from tensorflow-gpu==2.0.0.alpha0) (1.1.0)\n",
            "Requirement already satisfied: gast>=0.2.0 in /usr/local/lib/python3.6/dist-packages (from tensorflow-gpu==2.0.0.alpha0) (0.2.2)\n",
            "Requirement already satisfied: absl-py>=0.7.0 in /usr/local/lib/python3.6/dist-packages (from tensorflow-gpu==2.0.0.alpha0) (0.9.0)\n",
            "Collecting tf-estimator-nightly<1.14.0.dev2019030116,>=1.14.0.dev2019030115\n",
            "\u001b[?25l  Downloading https://files.pythonhosted.org/packages/13/82/f16063b4eed210dc2ab057930ac1da4fbe1e91b7b051a6c8370b401e6ae7/tf_estimator_nightly-1.14.0.dev2019030115-py2.py3-none-any.whl (411kB)\n",
            "\u001b[K     |████████████████████████████████| 419kB 44.7MB/s \n",
            "\u001b[?25hRequirement already satisfied: keras-applications>=1.0.6 in /usr/local/lib/python3.6/dist-packages (from tensorflow-gpu==2.0.0.alpha0) (1.0.8)\n",
            "Requirement already satisfied: wheel>=0.26 in /usr/local/lib/python3.6/dist-packages (from tensorflow-gpu==2.0.0.alpha0) (0.34.2)\n",
            "Requirement already satisfied: numpy<2.0,>=1.14.5 in /usr/local/lib/python3.6/dist-packages (from tensorflow-gpu==2.0.0.alpha0) (1.17.5)\n",
            "Collecting tb-nightly<1.14.0a20190302,>=1.14.0a20190301\n",
            "\u001b[?25l  Downloading https://files.pythonhosted.org/packages/a9/51/aa1d756644bf4624c03844115e4ac4058eff77acd786b26315f051a4b195/tb_nightly-1.14.0a20190301-py3-none-any.whl (3.0MB)\n",
            "\u001b[K     |████████████████████████████████| 3.0MB 20.4MB/s \n",
            "\u001b[?25hRequirement already satisfied: astor>=0.6.0 in /usr/local/lib/python3.6/dist-packages (from tensorflow-gpu==2.0.0.alpha0) (0.8.1)\n",
            "Requirement already satisfied: google-pasta>=0.1.2 in /usr/local/lib/python3.6/dist-packages (from tensorflow-gpu==2.0.0.alpha0) (0.1.8)\n",
            "Requirement already satisfied: six>=1.10.0 in /usr/local/lib/python3.6/dist-packages (from tensorflow-gpu==2.0.0.alpha0) (1.12.0)\n",
            "Requirement already satisfied: grpcio>=1.8.6 in /usr/local/lib/python3.6/dist-packages (from tensorflow-gpu==2.0.0.alpha0) (1.27.1)\n",
            "Requirement already satisfied: termcolor>=1.1.0 in /usr/local/lib/python3.6/dist-packages (from tensorflow-gpu==2.0.0.alpha0) (1.1.0)\n",
            "Requirement already satisfied: setuptools in /usr/local/lib/python3.6/dist-packages (from protobuf>=3.6.1->tensorflow-gpu==2.0.0.alpha0) (45.2.0)\n",
            "Requirement already satisfied: h5py in /usr/local/lib/python3.6/dist-packages (from keras-applications>=1.0.6->tensorflow-gpu==2.0.0.alpha0) (2.8.0)\n",
            "Requirement already satisfied: werkzeug>=0.11.15 in /usr/local/lib/python3.6/dist-packages (from tb-nightly<1.14.0a20190302,>=1.14.0a20190301->tensorflow-gpu==2.0.0.alpha0) (1.0.0)\n",
            "Requirement already satisfied: markdown>=2.6.8 in /usr/local/lib/python3.6/dist-packages (from tb-nightly<1.14.0a20190302,>=1.14.0a20190301->tensorflow-gpu==2.0.0.alpha0) (3.2.1)\n",
            "Installing collected packages: tf-estimator-nightly, tb-nightly, tensorflow-gpu\n",
            "Successfully installed tb-nightly-1.14.0a20190301 tensorflow-gpu-2.0.0a0 tf-estimator-nightly-1.14.0.dev2019030115\n"
          ],
          "name": "stdout"
        },
        {
          "output_type": "display_data",
          "data": {
            "application/vnd.colab-display-data+json": {
              "pip_warning": {
                "packages": [
                  "tensorboard",
                  "tensorflow",
                  "tensorflow_estimator"
                ]
              }
            }
          },
          "metadata": {
            "tags": []
          }
        }
      ]
    },
    {
      "cell_type": "markdown",
      "metadata": {
        "id": "lRHFdNYAfWKJ",
        "colab_type": "text"
      },
      "source": [
        "## Etapa 2: Importando as bibliotecas"
      ]
    },
    {
      "cell_type": "code",
      "metadata": {
        "id": "tS5xFeQwe9Xu",
        "colab_type": "code",
        "outputId": "600f8003-dbfa-42db-aa11-1c06ad7fdf59",
        "colab": {
          "base_uri": "https://localhost:8080/",
          "height": 462
        }
      },
      "source": [
        "import tensorflow as tf\n",
        "import matplotlib.pyplot as plt\n",
        "\n",
        "from tensorflow.keras.datasets import cifar10\n",
        "\n",
        "%matplotlib inline\n",
        "tf.__version__"
      ],
      "execution_count": 1,
      "outputs": [
        {
          "output_type": "stream",
          "text": [
            "/usr/local/lib/python3.6/dist-packages/tensorflow/python/framework/dtypes.py:523: FutureWarning: Passing (type, 1) or '1type' as a synonym of type is deprecated; in a future version of numpy, it will be understood as (type, (1,)) / '(1,)type'.\n",
            "  _np_qint8 = np.dtype([(\"qint8\", np.int8, 1)])\n",
            "/usr/local/lib/python3.6/dist-packages/tensorflow/python/framework/dtypes.py:524: FutureWarning: Passing (type, 1) or '1type' as a synonym of type is deprecated; in a future version of numpy, it will be understood as (type, (1,)) / '(1,)type'.\n",
            "  _np_quint8 = np.dtype([(\"quint8\", np.uint8, 1)])\n",
            "/usr/local/lib/python3.6/dist-packages/tensorflow/python/framework/dtypes.py:525: FutureWarning: Passing (type, 1) or '1type' as a synonym of type is deprecated; in a future version of numpy, it will be understood as (type, (1,)) / '(1,)type'.\n",
            "  _np_qint16 = np.dtype([(\"qint16\", np.int16, 1)])\n",
            "/usr/local/lib/python3.6/dist-packages/tensorflow/python/framework/dtypes.py:526: FutureWarning: Passing (type, 1) or '1type' as a synonym of type is deprecated; in a future version of numpy, it will be understood as (type, (1,)) / '(1,)type'.\n",
            "  _np_quint16 = np.dtype([(\"quint16\", np.uint16, 1)])\n",
            "/usr/local/lib/python3.6/dist-packages/tensorflow/python/framework/dtypes.py:527: FutureWarning: Passing (type, 1) or '1type' as a synonym of type is deprecated; in a future version of numpy, it will be understood as (type, (1,)) / '(1,)type'.\n",
            "  _np_qint32 = np.dtype([(\"qint32\", np.int32, 1)])\n",
            "/usr/local/lib/python3.6/dist-packages/tensorflow/python/framework/dtypes.py:532: FutureWarning: Passing (type, 1) or '1type' as a synonym of type is deprecated; in a future version of numpy, it will be understood as (type, (1,)) / '(1,)type'.\n",
            "  np_resource = np.dtype([(\"resource\", np.ubyte, 1)])\n",
            "/usr/local/lib/python3.6/dist-packages/tensorboard/compat/tensorflow_stub/dtypes.py:541: FutureWarning: Passing (type, 1) or '1type' as a synonym of type is deprecated; in a future version of numpy, it will be understood as (type, (1,)) / '(1,)type'.\n",
            "  _np_qint8 = np.dtype([(\"qint8\", np.int8, 1)])\n",
            "/usr/local/lib/python3.6/dist-packages/tensorboard/compat/tensorflow_stub/dtypes.py:542: FutureWarning: Passing (type, 1) or '1type' as a synonym of type is deprecated; in a future version of numpy, it will be understood as (type, (1,)) / '(1,)type'.\n",
            "  _np_quint8 = np.dtype([(\"quint8\", np.uint8, 1)])\n",
            "/usr/local/lib/python3.6/dist-packages/tensorboard/compat/tensorflow_stub/dtypes.py:543: FutureWarning: Passing (type, 1) or '1type' as a synonym of type is deprecated; in a future version of numpy, it will be understood as (type, (1,)) / '(1,)type'.\n",
            "  _np_qint16 = np.dtype([(\"qint16\", np.int16, 1)])\n",
            "/usr/local/lib/python3.6/dist-packages/tensorboard/compat/tensorflow_stub/dtypes.py:544: FutureWarning: Passing (type, 1) or '1type' as a synonym of type is deprecated; in a future version of numpy, it will be understood as (type, (1,)) / '(1,)type'.\n",
            "  _np_quint16 = np.dtype([(\"quint16\", np.uint16, 1)])\n",
            "/usr/local/lib/python3.6/dist-packages/tensorboard/compat/tensorflow_stub/dtypes.py:545: FutureWarning: Passing (type, 1) or '1type' as a synonym of type is deprecated; in a future version of numpy, it will be understood as (type, (1,)) / '(1,)type'.\n",
            "  _np_qint32 = np.dtype([(\"qint32\", np.int32, 1)])\n",
            "/usr/local/lib/python3.6/dist-packages/tensorboard/compat/tensorflow_stub/dtypes.py:550: FutureWarning: Passing (type, 1) or '1type' as a synonym of type is deprecated; in a future version of numpy, it will be understood as (type, (1,)) / '(1,)type'.\n",
            "  np_resource = np.dtype([(\"resource\", np.ubyte, 1)])\n"
          ],
          "name": "stderr"
        },
        {
          "output_type": "execute_result",
          "data": {
            "text/plain": [
              "'2.0.0-alpha0'"
            ]
          },
          "metadata": {
            "tags": []
          },
          "execution_count": 1
        }
      ]
    },
    {
      "cell_type": "markdown",
      "metadata": {
        "id": "e8zYubaPfy-S",
        "colab_type": "text"
      },
      "source": [
        "## Etapa 3: Pré-processamento"
      ]
    },
    {
      "cell_type": "markdown",
      "metadata": {
        "id": "AOAGjiPogF0w",
        "colab_type": "text"
      },
      "source": [
        "### Carregando a base de dados Cifar10"
      ]
    },
    {
      "cell_type": "code",
      "metadata": {
        "id": "v1N6LbS-e9a1",
        "colab_type": "code",
        "colab": {}
      },
      "source": [
        "# Configurando o nome das classes que serão previstas\n",
        "class_names = ['airplane', 'automobile', 'bird', 'cat', 'deer', 'dog', 'frog', 'horse', 'ship', 'truck']"
      ],
      "execution_count": 0,
      "outputs": []
    },
    {
      "cell_type": "code",
      "metadata": {
        "id": "f13-8-m_fqKP",
        "colab_type": "code",
        "outputId": "d443d6cd-105a-484a-9a0e-213a68f47b34",
        "colab": {
          "base_uri": "https://localhost:8080/",
          "height": 51
        }
      },
      "source": [
        "# Carregando a base de dados\n",
        "(X_train, y_train), (X_test, y_test) = cifar10.load_data()"
      ],
      "execution_count": 3,
      "outputs": [
        {
          "output_type": "stream",
          "text": [
            "Downloading data from https://www.cs.toronto.edu/~kriz/cifar-10-python.tar.gz\n",
            "170500096/170498071 [==============================] - 11s 0us/step\n"
          ],
          "name": "stdout"
        }
      ]
    },
    {
      "cell_type": "markdown",
      "metadata": {
        "id": "XqDIpsJWgUkz",
        "colab_type": "text"
      },
      "source": [
        "### Normalização das imagens"
      ]
    },
    {
      "cell_type": "code",
      "metadata": {
        "id": "ohcM5aeFpf2v",
        "colab_type": "code",
        "outputId": "5c98fc5e-ecae-4afb-d9ca-d3ea6765dc9e",
        "colab": {
          "base_uri": "https://localhost:8080/",
          "height": 850
        }
      },
      "source": [
        "X_train[0]"
      ],
      "execution_count": 6,
      "outputs": [
        {
          "output_type": "execute_result",
          "data": {
            "text/plain": [
              "array([[[0.23137255, 0.24313725, 0.24705882],\n",
              "        [0.16862745, 0.18039216, 0.17647059],\n",
              "        [0.19607843, 0.18823529, 0.16862745],\n",
              "        ...,\n",
              "        [0.61960784, 0.51764706, 0.42352941],\n",
              "        [0.59607843, 0.49019608, 0.4       ],\n",
              "        [0.58039216, 0.48627451, 0.40392157]],\n",
              "\n",
              "       [[0.0627451 , 0.07843137, 0.07843137],\n",
              "        [0.        , 0.        , 0.        ],\n",
              "        [0.07058824, 0.03137255, 0.        ],\n",
              "        ...,\n",
              "        [0.48235294, 0.34509804, 0.21568627],\n",
              "        [0.46666667, 0.3254902 , 0.19607843],\n",
              "        [0.47843137, 0.34117647, 0.22352941]],\n",
              "\n",
              "       [[0.09803922, 0.09411765, 0.08235294],\n",
              "        [0.0627451 , 0.02745098, 0.        ],\n",
              "        [0.19215686, 0.10588235, 0.03137255],\n",
              "        ...,\n",
              "        [0.4627451 , 0.32941176, 0.19607843],\n",
              "        [0.47058824, 0.32941176, 0.19607843],\n",
              "        [0.42745098, 0.28627451, 0.16470588]],\n",
              "\n",
              "       ...,\n",
              "\n",
              "       [[0.81568627, 0.66666667, 0.37647059],\n",
              "        [0.78823529, 0.6       , 0.13333333],\n",
              "        [0.77647059, 0.63137255, 0.10196078],\n",
              "        ...,\n",
              "        [0.62745098, 0.52156863, 0.2745098 ],\n",
              "        [0.21960784, 0.12156863, 0.02745098],\n",
              "        [0.20784314, 0.13333333, 0.07843137]],\n",
              "\n",
              "       [[0.70588235, 0.54509804, 0.37647059],\n",
              "        [0.67843137, 0.48235294, 0.16470588],\n",
              "        [0.72941176, 0.56470588, 0.11764706],\n",
              "        ...,\n",
              "        [0.72156863, 0.58039216, 0.36862745],\n",
              "        [0.38039216, 0.24313725, 0.13333333],\n",
              "        [0.3254902 , 0.20784314, 0.13333333]],\n",
              "\n",
              "       [[0.69411765, 0.56470588, 0.45490196],\n",
              "        [0.65882353, 0.50588235, 0.36862745],\n",
              "        [0.70196078, 0.55686275, 0.34117647],\n",
              "        ...,\n",
              "        [0.84705882, 0.72156863, 0.54901961],\n",
              "        [0.59215686, 0.4627451 , 0.32941176],\n",
              "        [0.48235294, 0.36078431, 0.28235294]]])"
            ]
          },
          "metadata": {
            "tags": []
          },
          "execution_count": 6
        }
      ]
    },
    {
      "cell_type": "code",
      "metadata": {
        "id": "-QFncPlpgNmU",
        "colab_type": "code",
        "colab": {}
      },
      "source": [
        "X_train = X_train / 255.0"
      ],
      "execution_count": 0,
      "outputs": []
    },
    {
      "cell_type": "code",
      "metadata": {
        "id": "L1rFHX67gc6G",
        "colab_type": "code",
        "outputId": "e0969108-8fc7-49a6-f987-0c68ac801c47",
        "colab": {
          "base_uri": "https://localhost:8080/",
          "height": 34
        }
      },
      "source": [
        "X_train.shape"
      ],
      "execution_count": 7,
      "outputs": [
        {
          "output_type": "execute_result",
          "data": {
            "text/plain": [
              "(50000, 32, 32, 3)"
            ]
          },
          "metadata": {
            "tags": []
          },
          "execution_count": 7
        }
      ]
    },
    {
      "cell_type": "code",
      "metadata": {
        "id": "Ve2WbRGWgc3I",
        "colab_type": "code",
        "colab": {}
      },
      "source": [
        "X_test = X_test / 255.0"
      ],
      "execution_count": 0,
      "outputs": []
    },
    {
      "cell_type": "code",
      "metadata": {
        "id": "7jwvNZ82gh9d",
        "colab_type": "code",
        "outputId": "225a16b1-97c8-493d-899b-c74dcded586b",
        "colab": {
          "base_uri": "https://localhost:8080/",
          "height": 283
        }
      },
      "source": [
        "plt.imshow(X_test[4])"
      ],
      "execution_count": 9,
      "outputs": [
        {
          "output_type": "execute_result",
          "data": {
            "text/plain": [
              "<matplotlib.image.AxesImage at 0x7fbb8f4586a0>"
            ]
          },
          "metadata": {
            "tags": []
          },
          "execution_count": 9
        },
        {
          "output_type": "display_data",
          "data": {
            "image/png": "[encoded data removed]",
            "text/plain": [
              "<Figure size 432x288 with 1 Axes>"
            ]
          },
          "metadata": {
            "tags": []
          }
        }
      ]
    },
    {
      "cell_type": "markdown",
      "metadata": {
        "id": "HXiuZulIguyf",
        "colab_type": "text"
      },
      "source": [
        "## Etapa 4: Construindo a Rede Neural Convolucional"
      ]
    },
    {
      "cell_type": "markdown",
      "metadata": {
        "id": "ZFTetk8ngy0f",
        "colab_type": "text"
      },
      "source": [
        "### Definindo o modelo"
      ]
    },
    {
      "cell_type": "code",
      "metadata": {
        "id": "1TR0JGP5gq2i",
        "colab_type": "code",
        "colab": {}
      },
      "source": [
        "model = tf.keras.models.Sequential()"
      ],
      "execution_count": 0,
      "outputs": []
    },
    {
      "cell_type": "markdown",
      "metadata": {
        "id": "j92d4FE0hTZV",
        "colab_type": "text"
      },
      "source": [
        "### Adicionado a primeira camada de convolução\n",
        "\n",
        "Hyper-parâmetros da camada de convolução:\n",
        "- filters (filtros): 32\n",
        "- kernel_size (tamanho do kernel): 3\n",
        "- padding (preenchimento): same\n",
        "- função de ativação: relu\n",
        "- input_shape (camada de entrada): (32, 32, 3)\n"
      ]
    },
    {
      "cell_type": "code",
      "metadata": {
        "id": "LSkL1iOvg_dE",
        "colab_type": "code",
        "colab": {}
      },
      "source": [
        "model.add(tf.keras.layers.Conv2D(filters=32, kernel_size=3, padding=\"same\", activation=\"relu\", input_shape=[32, 32, 3]))"
      ],
      "execution_count": 0,
      "outputs": []
    },
    {
      "cell_type": "markdown",
      "metadata": {
        "id": "gfRAaRmWiSlZ",
        "colab_type": "text"
      },
      "source": [
        "### Adicionando a segunda camada de convolução e a camada de max-pooling\n",
        "\n",
        "Hyper-parâmetros da camada de convolução:\n",
        "- filters (filtros): 32\n",
        "- kernel_size (tamanho do kernel):3\n",
        "- padding (preenchimento): same\n",
        "- função de ativação: relu\n",
        "\n",
        "Hyper-parâmetros da camada de max-pooling:\n",
        "- pool_size: 2\n",
        "- strides: 2\n",
        "- padding: valid"
      ]
    },
    {
      "cell_type": "code",
      "metadata": {
        "id": "sSl7Es5yidMp",
        "colab_type": "code",
        "colab": {}
      },
      "source": [
        "model.add(tf.keras.layers.Conv2D(filters=32, kernel_size=3, padding=\"same\", activation=\"relu\"))"
      ],
      "execution_count": 0,
      "outputs": []
    },
    {
      "cell_type": "code",
      "metadata": {
        "id": "wmP9h5wliAR6",
        "colab_type": "code",
        "colab": {}
      },
      "source": [
        "model.add(tf.keras.layers.MaxPool2D(pool_size=2, strides=2, padding='valid'))"
      ],
      "execution_count": 0,
      "outputs": []
    },
    {
      "cell_type": "markdown",
      "metadata": {
        "id": "wd8ERDyvin-0",
        "colab_type": "text"
      },
      "source": [
        "### Adicionando a terceira camada de convolução\n",
        "\n",
        "Hyper-parâmetros da camada de convolução:\n",
        "\n",
        "    filters: 64\n",
        "    kernel_size:3\n",
        "    padding: same\n",
        "    activation: relu\n"
      ]
    },
    {
      "cell_type": "code",
      "metadata": {
        "id": "i9HWy6aFixEw",
        "colab_type": "code",
        "colab": {}
      },
      "source": [
        "model.add(tf.keras.layers.Conv2D(filters=64, kernel_size=3, padding=\"same\", activation=\"relu\"))"
      ],
      "execution_count": 0,
      "outputs": []
    },
    {
      "cell_type": "markdown",
      "metadata": {
        "id": "O55kyOQGi44V",
        "colab_type": "text"
      },
      "source": [
        "###  Adicionando a quarta camada de convolução e a camada de max pooling\n",
        "\n",
        "Hyper-parâmetros da camada de convolução:\n",
        "\n",
        "    filters: 64\n",
        "    kernel_size:3\n",
        "    padding: same\n",
        "    activation: relu\n",
        "\n",
        "Hyper-parâmetros da camada de max pooling:\n",
        "\n",
        "    pool_size: 2\n",
        "    strides: 2\n",
        "    padding: valid\n"
      ]
    },
    {
      "cell_type": "code",
      "metadata": {
        "id": "5b7vAuhjjCF2",
        "colab_type": "code",
        "colab": {}
      },
      "source": [
        "model.add(tf.keras.layers.Conv2D(filters=64, kernel_size=3, padding=\"same\", activation=\"relu\"))"
      ],
      "execution_count": 0,
      "outputs": []
    },
    {
      "cell_type": "code",
      "metadata": {
        "id": "oc493G2BjFhg",
        "colab_type": "code",
        "colab": {}
      },
      "source": [
        "model.add(tf.keras.layers.MaxPool2D(pool_size=2, strides=2, padding='valid'))"
      ],
      "execution_count": 0,
      "outputs": []
    },
    {
      "cell_type": "markdown",
      "metadata": {
        "id": "-hGnR3aXjKbZ",
        "colab_type": "text"
      },
      "source": [
        "### Adicionando a camada de flattening"
      ]
    },
    {
      "cell_type": "code",
      "metadata": {
        "id": "QLzu2cCVjI5Z",
        "colab_type": "code",
        "colab": {}
      },
      "source": [
        "model.add(tf.keras.layers.Flatten())"
      ],
      "execution_count": 0,
      "outputs": []
    },
    {
      "cell_type": "markdown",
      "metadata": {
        "id": "GpeRUvVWjR1W",
        "colab_type": "text"
      },
      "source": [
        "### Adicionando a primeira camada densa (fully-connected)\n",
        "\n",
        "Hyper-parâmetros da camada densa:\n",
        "- units/neurônios: 128\n",
        "- função de ativação: relu"
      ]
    },
    {
      "cell_type": "code",
      "metadata": {
        "id": "FWzYY8kKjhnZ",
        "colab_type": "code",
        "colab": {}
      },
      "source": [
        "model.add(tf.keras.layers.Dense(units=128, activation='relu'))"
      ],
      "execution_count": 0,
      "outputs": []
    },
    {
      "cell_type": "markdown",
      "metadata": {
        "id": "UaakKTqRjrkF",
        "colab_type": "text"
      },
      "source": [
        "### Adicionando a camada de saída\n",
        "\n",
        "Hyper-parâmetros da camada de saída:\n",
        "\n",
        " - units/neurônios: 10 (número de classes)\n",
        " - activation: softmax\n"
      ]
    },
    {
      "cell_type": "code",
      "metadata": {
        "id": "4t-JmzRvjnBj",
        "colab_type": "code",
        "colab": {}
      },
      "source": [
        "model.add(tf.keras.layers.Dense(units=10, activation='softmax'))"
      ],
      "execution_count": 0,
      "outputs": []
    },
    {
      "cell_type": "code",
      "metadata": {
        "id": "aRr3bCU-ti06",
        "colab_type": "code",
        "outputId": "a56f9f98-be61-4e44-f127-498eeda2539c",
        "colab": {
          "base_uri": "https://localhost:8080/",
          "height": 459
        }
      },
      "source": [
        "model.summary()"
      ],
      "execution_count": 20,
      "outputs": [
        {
          "output_type": "stream",
          "text": [
            "Model: \"sequential\"\n",
            "_________________________________________________________________\n",
            "Layer (type)                 Output Shape              Param #   \n",
            "=================================================================\n",
            "conv2d (Conv2D)              (None, 32, 32, 32)        896       \n",
            "_________________________________________________________________\n",
            "conv2d_1 (Conv2D)            (None, 32, 32, 32)        9248      \n",
            "_________________________________________________________________\n",
            "max_pooling2d (MaxPooling2D) (None, 16, 16, 32)        0         \n",
            "_________________________________________________________________\n",
            "conv2d_2 (Conv2D)            (None, 16, 16, 64)        18496     \n",
            "_________________________________________________________________\n",
            "conv2d_3 (Conv2D)            (None, 16, 16, 64)        36928     \n",
            "_________________________________________________________________\n",
            "max_pooling2d_1 (MaxPooling2 (None, 8, 8, 64)          0         \n",
            "_________________________________________________________________\n",
            "flatten (Flatten)            (None, 4096)              0         \n",
            "_________________________________________________________________\n",
            "dense (Dense)                (None, 128)               524416    \n",
            "_________________________________________________________________\n",
            "dense_1 (Dense)              (None, 10)                1290      \n",
            "=================================================================\n",
            "Total params: 591,274\n",
            "Trainable params: 591,274\n",
            "Non-trainable params: 0\n",
            "_________________________________________________________________\n"
          ],
          "name": "stdout"
        }
      ]
    },
    {
      "cell_type": "markdown",
      "metadata": {
        "id": "DYgvbNihtprw",
        "colab_type": "text"
      },
      "source": [
        "### Compilando o modelo\n",
        "\n",
        "#### sparse_categorical_accuracy\n",
        "\n",
        "https://stackoverflow.com/questions/44477489/keras-difference-between-categorical-accuracy-and-sparse-categorical-accuracy "
      ]
    },
    {
      "cell_type": "code",
      "metadata": {
        "id": "vh7gBIk-vu0S",
        "colab_type": "code",
        "outputId": "ccf3b468-40d3-4968-ebc8-1bcef315088f",
        "colab": {
          "base_uri": "https://localhost:8080/",
          "height": 34
        }
      },
      "source": [
        "# 0 0 0 1 0 0 0 0 0 0\n",
        "y_test[0]"
      ],
      "execution_count": 21,
      "outputs": [
        {
          "output_type": "execute_result",
          "data": {
            "text/plain": [
              "array([3])"
            ]
          },
          "metadata": {
            "tags": []
          },
          "execution_count": 21
        }
      ]
    },
    {
      "cell_type": "code",
      "metadata": {
        "id": "oYHELxz4tsa-",
        "colab_type": "code",
        "colab": {}
      },
      "source": [
        "model.compile(loss=\"sparse_categorical_crossentropy\", optimizer=\"Adam\", metrics=[\"sparse_categorical_accuracy\"])"
      ],
      "execution_count": 0,
      "outputs": []
    },
    {
      "cell_type": "markdown",
      "metadata": {
        "id": "Gox3SmwUtwgX",
        "colab_type": "text"
      },
      "source": [
        "### Treinando o modelo"
      ]
    },
    {
      "cell_type": "code",
      "metadata": {
        "id": "D3MHvRYKe9fN",
        "colab_type": "code",
        "outputId": "eaf85297-906b-419e-e0e7-2f35a290957b",
        "colab": {
          "base_uri": "https://localhost:8080/",
          "height": 1000
        }
      },
      "source": [
        "model.fit(X_train, y_train, epochs=100)"
      ],
      "execution_count": 23,
      "outputs": [
        {
          "output_type": "stream",
          "text": [
            "Epoch 1/100\n",
            "50000/50000 [==============================] - 26s 515us/sample - loss: 1.3539 - sparse_categorical_accuracy: 0.5140\n",
            "Epoch 2/100\n",
            "50000/50000 [==============================] - 20s 398us/sample - loss: 0.8991 - sparse_categorical_accuracy: 0.6857\n",
            "Epoch 3/100\n",
            "50000/50000 [==============================] - 20s 392us/sample - loss: 0.7244 - sparse_categorical_accuracy: 0.7455\n",
            "Epoch 4/100\n",
            "50000/50000 [==============================] - 20s 392us/sample - loss: 0.5991 - sparse_categorical_accuracy: 0.7913\n",
            "Epoch 5/100\n",
            "50000/50000 [==============================] - 19s 389us/sample - loss: 0.5016 - sparse_categorical_accuracy: 0.8251\n",
            "Epoch 6/100\n",
            "50000/50000 [==============================] - 19s 389us/sample - loss: 0.4067 - sparse_categorical_accuracy: 0.8570\n",
            "Epoch 7/100\n",
            "50000/50000 [==============================] - 19s 390us/sample - loss: 0.3310 - sparse_categorical_accuracy: 0.8828\n",
            "Epoch 8/100\n",
            "50000/50000 [==============================] - 19s 389us/sample - loss: 0.2657 - sparse_categorical_accuracy: 0.9042\n",
            "Epoch 9/100\n",
            "50000/50000 [==============================] - 20s 395us/sample - loss: 0.2194 - sparse_categorical_accuracy: 0.9219\n",
            "Epoch 10/100\n",
            "50000/50000 [==============================] - 19s 389us/sample - loss: 0.1827 - sparse_categorical_accuracy: 0.9361\n",
            "Epoch 11/100\n",
            "50000/50000 [==============================] - 20s 392us/sample - loss: 0.1530 - sparse_categorical_accuracy: 0.9452\n",
            "Epoch 12/100\n",
            "50000/50000 [==============================] - 20s 393us/sample - loss: 0.1366 - sparse_categorical_accuracy: 0.9522\n",
            "Epoch 13/100\n",
            "50000/50000 [==============================] - 20s 393us/sample - loss: 0.1277 - sparse_categorical_accuracy: 0.9556\n",
            "Epoch 14/100\n",
            "50000/50000 [==============================] - 20s 396us/sample - loss: 0.1216 - sparse_categorical_accuracy: 0.9588\n",
            "Epoch 15/100\n",
            "50000/50000 [==============================] - 20s 394us/sample - loss: 0.1110 - sparse_categorical_accuracy: 0.9618\n",
            "Epoch 16/100\n",
            "50000/50000 [==============================] - 20s 393us/sample - loss: 0.1051 - sparse_categorical_accuracy: 0.9637\n",
            "Epoch 17/100\n",
            "50000/50000 [==============================] - 20s 395us/sample - loss: 0.1062 - sparse_categorical_accuracy: 0.9641\n",
            "Epoch 18/100\n",
            "50000/50000 [==============================] - 19s 386us/sample - loss: 0.0893 - sparse_categorical_accuracy: 0.9695\n",
            "Epoch 19/100\n",
            "50000/50000 [==============================] - 19s 389us/sample - loss: 0.0939 - sparse_categorical_accuracy: 0.9683\n",
            "Epoch 20/100\n",
            "50000/50000 [==============================] - 19s 389us/sample - loss: 0.0859 - sparse_categorical_accuracy: 0.9711\n",
            "Epoch 21/100\n",
            "50000/50000 [==============================] - 19s 389us/sample - loss: 0.0891 - sparse_categorical_accuracy: 0.9705\n",
            "Epoch 22/100\n",
            "50000/50000 [==============================] - 19s 389us/sample - loss: 0.0827 - sparse_categorical_accuracy: 0.9728\n",
            "Epoch 23/100\n",
            "50000/50000 [==============================] - 19s 386us/sample - loss: 0.0810 - sparse_categorical_accuracy: 0.9739\n",
            "Epoch 24/100\n",
            "50000/50000 [==============================] - 19s 389us/sample - loss: 0.0762 - sparse_categorical_accuracy: 0.9751\n",
            "Epoch 25/100\n",
            "50000/50000 [==============================] - 19s 388us/sample - loss: 0.0858 - sparse_categorical_accuracy: 0.9724\n",
            "Epoch 26/100\n",
            "50000/50000 [==============================] - 20s 393us/sample - loss: 0.0798 - sparse_categorical_accuracy: 0.9748\n",
            "Epoch 27/100\n",
            "50000/50000 [==============================] - 19s 384us/sample - loss: 0.0697 - sparse_categorical_accuracy: 0.9774\n",
            "Epoch 28/100\n",
            "50000/50000 [==============================] - 19s 388us/sample - loss: 0.0738 - sparse_categorical_accuracy: 0.9768\n",
            "Epoch 29/100\n",
            "50000/50000 [==============================] - 20s 391us/sample - loss: 0.0775 - sparse_categorical_accuracy: 0.9754\n",
            "Epoch 30/100\n",
            "50000/50000 [==============================] - 19s 387us/sample - loss: 0.0700 - sparse_categorical_accuracy: 0.9783\n",
            "Epoch 31/100\n",
            "50000/50000 [==============================] - 20s 391us/sample - loss: 0.0707 - sparse_categorical_accuracy: 0.9783\n",
            "Epoch 32/100\n",
            "50000/50000 [==============================] - 19s 385us/sample - loss: 0.0682 - sparse_categorical_accuracy: 0.9781\n",
            "Epoch 33/100\n",
            "50000/50000 [==============================] - 19s 388us/sample - loss: 0.0675 - sparse_categorical_accuracy: 0.9781\n",
            "Epoch 34/100\n",
            "50000/50000 [==============================] - 19s 385us/sample - loss: 0.0643 - sparse_categorical_accuracy: 0.9802\n",
            "Epoch 35/100\n",
            "50000/50000 [==============================] - 19s 382us/sample - loss: 0.0750 - sparse_categorical_accuracy: 0.9770\n",
            "Epoch 36/100\n",
            "50000/50000 [==============================] - 19s 386us/sample - loss: 0.0597 - sparse_categorical_accuracy: 0.9811\n",
            "Epoch 37/100\n",
            "50000/50000 [==============================] - 19s 386us/sample - loss: 0.0709 - sparse_categorical_accuracy: 0.9779\n",
            "Epoch 38/100\n",
            "50000/50000 [==============================] - 19s 386us/sample - loss: 0.0625 - sparse_categorical_accuracy: 0.9816\n",
            "Epoch 39/100\n",
            "50000/50000 [==============================] - 19s 386us/sample - loss: 0.0643 - sparse_categorical_accuracy: 0.9812\n",
            "Epoch 40/100\n",
            "50000/50000 [==============================] - 19s 382us/sample - loss: 0.0578 - sparse_categorical_accuracy: 0.9830\n",
            "Epoch 41/100\n",
            "50000/50000 [==============================] - 19s 384us/sample - loss: 0.0662 - sparse_categorical_accuracy: 0.9794\n",
            "Epoch 42/100\n",
            "50000/50000 [==============================] - 19s 386us/sample - loss: 0.0617 - sparse_categorical_accuracy: 0.9812\n",
            "Epoch 43/100\n",
            "50000/50000 [==============================] - 19s 380us/sample - loss: 0.0644 - sparse_categorical_accuracy: 0.9813\n",
            "Epoch 44/100\n",
            "50000/50000 [==============================] - 19s 385us/sample - loss: 0.0575 - sparse_categorical_accuracy: 0.9830\n",
            "Epoch 45/100\n",
            "50000/50000 [==============================] - 20s 391us/sample - loss: 0.0568 - sparse_categorical_accuracy: 0.9836\n",
            "Epoch 46/100\n",
            "50000/50000 [==============================] - 19s 386us/sample - loss: 0.0611 - sparse_categorical_accuracy: 0.9823\n",
            "Epoch 47/100\n",
            "50000/50000 [==============================] - 19s 387us/sample - loss: 0.0579 - sparse_categorical_accuracy: 0.9832\n",
            "Epoch 48/100\n",
            "50000/50000 [==============================] - 19s 389us/sample - loss: 0.0594 - sparse_categorical_accuracy: 0.9832\n",
            "Epoch 49/100\n",
            "50000/50000 [==============================] - 19s 385us/sample - loss: 0.0632 - sparse_categorical_accuracy: 0.9825\n",
            "Epoch 50/100\n",
            "50000/50000 [==============================] - 19s 386us/sample - loss: 0.0591 - sparse_categorical_accuracy: 0.9827\n",
            "Epoch 51/100\n",
            "50000/50000 [==============================] - 19s 386us/sample - loss: 0.0650 - sparse_categorical_accuracy: 0.9821\n",
            "Epoch 52/100\n",
            "50000/50000 [==============================] - 19s 381us/sample - loss: 0.0538 - sparse_categorical_accuracy: 0.9839\n",
            "Epoch 53/100\n",
            "50000/50000 [==============================] - 19s 384us/sample - loss: 0.0582 - sparse_categorical_accuracy: 0.9834\n",
            "Epoch 54/100\n",
            "50000/50000 [==============================] - 19s 387us/sample - loss: 0.0515 - sparse_categorical_accuracy: 0.9847\n",
            "Epoch 55/100\n",
            "50000/50000 [==============================] - 19s 383us/sample - loss: 0.0609 - sparse_categorical_accuracy: 0.9838\n",
            "Epoch 56/100\n",
            "50000/50000 [==============================] - 19s 386us/sample - loss: 0.0616 - sparse_categorical_accuracy: 0.9828\n",
            "Epoch 57/100\n",
            "50000/50000 [==============================] - 19s 390us/sample - loss: 0.0621 - sparse_categorical_accuracy: 0.9830\n",
            "Epoch 58/100\n",
            "50000/50000 [==============================] - 20s 391us/sample - loss: 0.0556 - sparse_categorical_accuracy: 0.9842\n",
            "Epoch 59/100\n",
            "50000/50000 [==============================] - 20s 391us/sample - loss: 0.0541 - sparse_categorical_accuracy: 0.9854\n",
            "Epoch 60/100\n",
            "50000/50000 [==============================] - 19s 387us/sample - loss: 0.0556 - sparse_categorical_accuracy: 0.9847\n",
            "Epoch 61/100\n",
            "50000/50000 [==============================] - 19s 388us/sample - loss: 0.0619 - sparse_categorical_accuracy: 0.9834\n",
            "Epoch 62/100\n",
            "50000/50000 [==============================] - 19s 388us/sample - loss: 0.0556 - sparse_categorical_accuracy: 0.9854\n",
            "Epoch 63/100\n",
            "50000/50000 [==============================] - 19s 386us/sample - loss: 0.0564 - sparse_categorical_accuracy: 0.9853\n",
            "Epoch 64/100\n",
            "50000/50000 [==============================] - 19s 389us/sample - loss: 0.0604 - sparse_categorical_accuracy: 0.9840\n",
            "Epoch 65/100\n",
            "50000/50000 [==============================] - 19s 384us/sample - loss: 0.0510 - sparse_categorical_accuracy: 0.9861\n",
            "Epoch 66/100\n",
            "50000/50000 [==============================] - 19s 384us/sample - loss: 0.0534 - sparse_categorical_accuracy: 0.9858\n",
            "Epoch 67/100\n",
            "50000/50000 [==============================] - 19s 381us/sample - loss: 0.0562 - sparse_categorical_accuracy: 0.9852\n",
            "Epoch 68/100\n",
            "50000/50000 [==============================] - 19s 389us/sample - loss: 0.0606 - sparse_categorical_accuracy: 0.9840\n",
            "Epoch 69/100\n",
            "50000/50000 [==============================] - 19s 385us/sample - loss: 0.0545 - sparse_categorical_accuracy: 0.9856\n",
            "Epoch 70/100\n",
            "50000/50000 [==============================] - 20s 392us/sample - loss: 0.0496 - sparse_categorical_accuracy: 0.9871\n",
            "Epoch 71/100\n",
            "50000/50000 [==============================] - 20s 393us/sample - loss: 0.0607 - sparse_categorical_accuracy: 0.9843\n",
            "Epoch 72/100\n",
            "50000/50000 [==============================] - 20s 391us/sample - loss: 0.0490 - sparse_categorical_accuracy: 0.9873\n",
            "Epoch 73/100\n",
            "50000/50000 [==============================] - 19s 389us/sample - loss: 0.0527 - sparse_categorical_accuracy: 0.9862\n",
            "Epoch 74/100\n",
            "50000/50000 [==============================] - 20s 392us/sample - loss: 0.0523 - sparse_categorical_accuracy: 0.9858\n",
            "Epoch 75/100\n",
            "50000/50000 [==============================] - 20s 391us/sample - loss: 0.0556 - sparse_categorical_accuracy: 0.9861\n",
            "Epoch 76/100\n",
            "50000/50000 [==============================] - 20s 394us/sample - loss: 0.0573 - sparse_categorical_accuracy: 0.9857\n",
            "Epoch 77/100\n",
            "50000/50000 [==============================] - 20s 399us/sample - loss: 0.0570 - sparse_categorical_accuracy: 0.9869\n",
            "Epoch 78/100\n",
            "50000/50000 [==============================] - 21s 416us/sample - loss: 0.0506 - sparse_categorical_accuracy: 0.9871\n",
            "Epoch 79/100\n",
            "50000/50000 [==============================] - 20s 404us/sample - loss: 0.0600 - sparse_categorical_accuracy: 0.9856\n",
            "Epoch 80/100\n",
            "50000/50000 [==============================] - 20s 403us/sample - loss: 0.0547 - sparse_categorical_accuracy: 0.9869\n",
            "Epoch 81/100\n",
            "50000/50000 [==============================] - 20s 401us/sample - loss: 0.0495 - sparse_categorical_accuracy: 0.9876\n",
            "Epoch 82/100\n",
            "50000/50000 [==============================] - 20s 400us/sample - loss: 0.0548 - sparse_categorical_accuracy: 0.9867\n",
            "Epoch 83/100\n",
            "50000/50000 [==============================] - 20s 396us/sample - loss: 0.0557 - sparse_categorical_accuracy: 0.9865\n",
            "Epoch 84/100\n",
            "50000/50000 [==============================] - 20s 395us/sample - loss: 0.0527 - sparse_categorical_accuracy: 0.9870\n",
            "Epoch 85/100\n",
            "50000/50000 [==============================] - 20s 398us/sample - loss: 0.0623 - sparse_categorical_accuracy: 0.9862\n",
            "Epoch 86/100\n",
            "50000/50000 [==============================] - 20s 398us/sample - loss: 0.0570 - sparse_categorical_accuracy: 0.9869\n",
            "Epoch 87/100\n",
            "50000/50000 [==============================] - 20s 390us/sample - loss: 0.0570 - sparse_categorical_accuracy: 0.9869\n",
            "Epoch 88/100\n",
            "50000/50000 [==============================] - 20s 392us/sample - loss: 0.0551 - sparse_categorical_accuracy: 0.9875\n",
            "Epoch 89/100\n",
            "50000/50000 [==============================] - 20s 392us/sample - loss: 0.0528 - sparse_categorical_accuracy: 0.9874\n",
            "Epoch 90/100\n",
            "50000/50000 [==============================] - 19s 385us/sample - loss: 0.0574 - sparse_categorical_accuracy: 0.9877\n",
            "Epoch 91/100\n",
            "50000/50000 [==============================] - 19s 387us/sample - loss: 0.0572 - sparse_categorical_accuracy: 0.9871\n",
            "Epoch 92/100\n",
            "50000/50000 [==============================] - 20s 390us/sample - loss: 0.0549 - sparse_categorical_accuracy: 0.9876\n",
            "Epoch 93/100\n",
            "50000/50000 [==============================] - 20s 395us/sample - loss: 0.0575 - sparse_categorical_accuracy: 0.9860\n",
            "Epoch 94/100\n",
            "50000/50000 [==============================] - 19s 386us/sample - loss: 0.0485 - sparse_categorical_accuracy: 0.9885\n",
            "Epoch 95/100\n",
            "50000/50000 [==============================] - 20s 394us/sample - loss: 0.0582 - sparse_categorical_accuracy: 0.9870\n",
            "Epoch 96/100\n",
            "50000/50000 [==============================] - 19s 384us/sample - loss: 0.0541 - sparse_categorical_accuracy: 0.9882\n",
            "Epoch 97/100\n",
            "50000/50000 [==============================] - 19s 384us/sample - loss: 0.0645 - sparse_categorical_accuracy: 0.9859\n",
            "Epoch 98/100\n",
            "50000/50000 [==============================] - 19s 388us/sample - loss: 0.0519 - sparse_categorical_accuracy: 0.9890\n",
            "Epoch 99/100\n",
            "50000/50000 [==============================] - 19s 386us/sample - loss: 0.0568 - sparse_categorical_accuracy: 0.9876\n",
            "Epoch 100/100\n",
            "50000/50000 [==============================] - 19s 383us/sample - loss: 0.0583 - sparse_categorical_accuracy: 0.9877\n"
          ],
          "name": "stdout"
        },
        {
          "output_type": "execute_result",
          "data": {
            "text/plain": [
              "<tensorflow.python.keras.callbacks.History at 0x7fbb8f458908>"
            ]
          },
          "metadata": {
            "tags": []
          },
          "execution_count": 23
        }
      ]
    },
    {
      "cell_type": "markdown",
      "metadata": {
        "id": "D8C7Pm0NuOrJ",
        "colab_type": "text"
      },
      "source": [
        "### Avaliando o modelo"
      ]
    },
    {
      "cell_type": "code",
      "metadata": {
        "id": "Z9r8TtNet3D0",
        "colab_type": "code",
        "outputId": "aa2c813f-c6f0-4427-bb05-2e57bc5246eb",
        "colab": {
          "base_uri": "https://localhost:8080/",
          "height": 34
        }
      },
      "source": [
        "test_loss, test_accuracy = model.evaluate(X_test, y_test)"
      ],
      "execution_count": 24,
      "outputs": [
        {
          "output_type": "stream",
          "text": [
            "10000/10000 [==============================] - 2s 181us/sample - loss: 4.3499 - sparse_categorical_accuracy: 0.7244\n"
          ],
          "name": "stdout"
        }
      ]
    },
    {
      "cell_type": "code",
      "metadata": {
        "id": "0rpAPpfzuV0p",
        "colab_type": "code",
        "outputId": "68078221-25d4-4de6-8309-e4a50b910c39",
        "colab": {
          "base_uri": "https://localhost:8080/",
          "height": 34
        }
      },
      "source": [
        "print(\"Test accuracy: {}\".format(test_accuracy))"
      ],
      "execution_count": 25,
      "outputs": [
        {
          "output_type": "stream",
          "text": [
            "Test accuracy: 0.724399983882904\n"
          ],
          "name": "stdout"
        }
      ]
    },
    {
      "cell_type": "code",
      "metadata": {
        "id": "lp7HNHS7I0HU",
        "colab_type": "code",
        "outputId": "0abb6083-fd0e-4b25-b5f9-74e0c02453ed",
        "colab": {
          "base_uri": "https://localhost:8080/",
          "height": 34
        }
      },
      "source": [
        "test_loss"
      ],
      "execution_count": 26,
      "outputs": [
        {
          "output_type": "execute_result",
          "data": {
            "text/plain": [
              "4.349853031778336"
            ]
          },
          "metadata": {
            "tags": []
          },
          "execution_count": 26
        }
      ]
    }
  ]
}